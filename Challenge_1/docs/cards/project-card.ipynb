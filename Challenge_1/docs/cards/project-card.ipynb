# AGRI_AI – Soil Classification Model Training

## Problem Statement
Accurate classification of soil types using image data to support agricultural decision-making. This project addresses the challenge hosted by **Annam.ai Hackathon, IIT Ropar 2025**, aiming to classify soil into: **Alluvial, Black, Clay, or Red**.

## Approach
We fine-tuned a deep convolutional neural network using transfer learning. The model was trained on augmented soil image data using a ResNet backbone, with added regularization and early stopping for improved generalization.

## Data Overview
- Images were categorized into four soil types.
- Class imbalance handled with augmentations and careful sampling.
- Training and validation split used in `ImageFolder`.

## Preprocessing
- Resize to `(224x224)`
- Normalization using ImageNet statistics
- Augmentations: `RandomHorizontalFlip`, `RandomRotation`, `ColorJitter`

## Model Architecture
- Backbone: ResNet18
- Optimizer: Adam
- Loss Function: CrossEntropy
- Scheduler: StepLR
- Early stopping and checkpointing enabled

## Evaluation Metric
- **Minimum F1-score across all soil types**  
  (Chosen due to imbalanced dataset)

## Output
- Trained `.pth` model saved for inference
- Training metrics plotted for loss/accuracy

## Files Referenced
- `/notebooks/training.ipynb`
- `requirements.txt`

## Team
**AGRI_AI**  
Contributors: Parthivi Jain, Surya Pratap Yadav
