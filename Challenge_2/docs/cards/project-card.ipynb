# AGRI_AI – Inference & Soil Classification Prediction

## Objective
Using the trained model to predict soil types on test image data. This notebook enables efficient batch inference and prepares the submission file as per the competition guidelines.

## Input
- A folder of unseen test images
- The trained model from the training notebook

## Preprocessing
- Images resized to `224x224`
- Normalized using same mean/std as training set
- Transforms applied using `torchvision`

## Inference
- Batch-wise image predictions
- Highest score label taken as final prediction
- Label decoding applied: `[Alluvial, Black, Clay, Red]`

## Output
- `.csv` file with `filename` and `label` columns
- Ready for direct submission

## Postprocessing
- Convert prediction indices to class labels

## Files Referenced
- `/notebooks/inference.ipynb`
- `submission.csv`

## Team
**AGRI_AI**  
Contributors: Parthivi Jain, Surya Pratap Yadav
